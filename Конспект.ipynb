{
 "cells": [
  {
   "cell_type": "code",
   "execution_count": 2,
   "metadata": {},
   "outputs": [
    {
     "name": "stdout",
     "output_type": "stream",
     "text": [
      "hello word and Yana\n"
     ]
    }
   ],
   "source": [
    "print('hello word and Yana')"
   ]
  },
  {
   "cell_type": "code",
   "execution_count": 3,
   "metadata": {},
   "outputs": [
    {
     "data": {
      "text/plain": [
       "<function print>"
      ]
     },
     "execution_count": 3,
     "metadata": {},
     "output_type": "execute_result"
    }
   ],
   "source": [
    "print\n",
    "\n",
    "#это ФУНКЦИЯ, которая делает вывод строки для кода"
   ]
  },
  {
   "cell_type": "code",
   "execution_count": 4,
   "metadata": {},
   "outputs": [
    {
     "name": "stdout",
     "output_type": "stream",
     "text": [
      "3\n",
      "3.6\n",
      "False\n",
      "cat\n",
      "cat Barny\n"
     ]
    }
   ],
   "source": [
    "print(3)\n",
    "print(3.6)\n",
    "print(False)\n",
    "print('cat')\n",
    "print('cat Barny')"
   ]
  },
  {
   "cell_type": "code",
   "execution_count": 5,
   "metadata": {},
   "outputs": [
    {
     "name": "stdout",
     "output_type": "stream",
     "text": [
      "1 3 4 6 8 12 34\n"
     ]
    }
   ],
   "source": [
    "print(1,3,4,6,8,12,34)"
   ]
  },
  {
   "cell_type": "code",
   "execution_count": 6,
   "metadata": {},
   "outputs": [
    {
     "name": "stdout",
     "output_type": "stream",
     "text": [
      "1___3___4___6___8___12___34\n"
     ]
    }
   ],
   "source": [
    "print(1,3,4,6,8,12,34, sep='___')\n",
    "\n",
    "#sep= изменяет стандартный параметр разделения пробелом данных"
   ]
  },
  {
   "cell_type": "code",
   "execution_count": 8,
   "metadata": {},
   "outputs": [
    {
     "name": "stdout",
     "output_type": "stream",
     "text": [
      "First line Second line\n",
      "\n",
      "\n",
      "Third line!"
     ]
    }
   ],
   "source": [
    "print('First line', end=' ') \n",
    "#строчка заканчивается пробелом после\n",
    "\n",
    "print('Second line', end='\\n\\n\\n')\n",
    "#строчка заканчивается 3мя отступами(абзацами) после\n",
    "\n",
    "print('Third line', end='!')\n",
    "#строчка заканчивается знаком восклицания"
   ]
  },
  {
   "cell_type": "code",
   "execution_count": 9,
   "metadata": {},
   "outputs": [
    {
     "name": "stdout",
     "output_type": "stream",
     "text": [
      "Help on built-in function print in module builtins:\n",
      "\n",
      "print(...)\n",
      "    print(value, ..., sep=' ', end='\\n', file=sys.stdout, flush=False)\n",
      "    \n",
      "    Prints the values to a stream, or to sys.stdout by default.\n",
      "    Optional keyword arguments:\n",
      "    file:  a file-like object (stream); defaults to the current sys.stdout.\n",
      "    sep:   string inserted between values, default a space.\n",
      "    end:   string appended after the last value, default a newline.\n",
      "    flush: whether to forcibly flush the stream.\n",
      "\n"
     ]
    }
   ],
   "source": [
    "help(print)\n",
    "#выдает информацию по использованию фукнции и инфу о ней"
   ]
  },
  {
   "cell_type": "code",
   "execution_count": 10,
   "metadata": {},
   "outputs": [],
   "source": [
    "print?"
   ]
  },
  {
   "cell_type": "code",
   "execution_count": 14,
   "metadata": {},
   "outputs": [
    {
     "data": {
      "text/plain": [
       "'\\x0b'"
      ]
     },
     "execution_count": 14,
     "metadata": {},
     "output_type": "execute_result"
    }
   ],
   "source": [
    "'\\n'\n",
    "# псоздает перенос на новую строку без применения функции print\n",
    "\n",
    "'\\t'\n",
    "#горизонтаьная табуляция (добавляет 4 \"пробела\", без его применения)\n",
    "\n",
    "'\\v'\n",
    "#вертикальная табуляция"
   ]
  },
  {
   "cell_type": "code",
   "execution_count": 7,
   "metadata": {},
   "outputs": [],
   "source": [
    "# ПРАВИЛА НАЗНАЧЕНИЯ ПЕРЕМЕННЫХ\n",
    "\n",
    "(1) - могут местить только буквы, цифры, нижнее подчеркивание и НЕ могу начинаться с цифры\n",
    "(2) - не могут содержать пробелов\n",
    "(3) - должны быть короткими, но при этом понятными для других пользователей (тех, кто будет читать код)\n",
    "\n",
    "# НЕКОТОРЫЕ СТРОКОВЫЕ МЕТОДЫ\n",
    "\n",
    "(1) - строковая КОНКАТЕНАЦИЯ используется для выведение двух переменных в одой строке с помощью символа '+'\n",
    "(2) - метод .title используется для выведения переменных большими буквами"
   ]
  },
  {
   "cell_type": "code",
   "execution_count": 13,
   "metadata": {},
   "outputs": [
    {
     "name": "stdout",
     "output_type": "stream",
     "text": [
      "Yana Sinelnichenko\n",
      "Y\n",
      "S\n",
      "Yana\n"
     ]
    }
   ],
   "source": [
    "# ИЗВЛЕЧЕНИЕ СИМВОЛА ИЗ СТРОКИ\n",
    "\n",
    "name = 'Yana Sinelnichenko'\n",
    "print(name)\n",
    "print(name[0])\n",
    "print(name[5])\n",
    "print(name[0:4])\n",
    "\n",
    "# каждый символ начинается со значения О, что будет значить\n",
    "Y[0] a[1] n[2] a[3] [4] S[5] i[6] n[7] e[8] l[9] n[10] i[11] c[12] h[13] e[14] n[15] k[16] o[17]"
   ]
  },
  {
   "cell_type": "code",
   "execution_count": 68,
   "metadata": {},
   "outputs": [
    {
     "name": "stdout",
     "output_type": "stream",
     "text": [
      "Python\n",
      "Pytho\n",
      "I like \n",
      "Ilk yhn\n"
     ]
    }
   ],
   "source": [
    "our_str = 'I like Python'\n",
    "print(our_str[7:13])\n",
    "print(our_str[7:-1])\n",
    "print(our_str[:7]) #шорткарт\n",
    "our_str[:6] == our_str[0:6]\n",
    "\n",
    "print(our_str[0:13:2]) #в шагом в каждый второй символ"
   ]
  },
  {
   "cell_type": "code",
   "execution_count": 18,
   "metadata": {},
   "outputs": [],
   "source": [
    "# ОСНОВНЫЕ типы данных в пацтоне - это ЦЕЛЫЕ ЧИСЛА (int - integers) и числа С ПЛАВАЮЩЕЙ ТОЧКОЙ/ДРОБНЫЕ (float)\n",
    "\n",
    "# ПРОСТЫЕ АРИФМЕТИЧСКИЕ ОПЕРАЦИИ\n",
    "\n",
    "3 // 2 - получение целой части от деления\n",
    "3 % 2 - получение остатка от деления (модуль)\n",
    "3 ** 2 - возведение в степень (функция power)\n",
    "\n",
    "# КОНВЕРСИЯ - преобразование числа в строку, применяется с помощью добавления str перед числов в круглых скобках\n",
    "str(7+9)"
   ]
  },
  {
   "cell_type": "code",
   "execution_count": 1,
   "metadata": {},
   "outputs": [
    {
     "name": "stdout",
     "output_type": "stream",
     "text": [
      "1 <class 'int'>\n",
      "2.0 <class 'float'>\n"
     ]
    }
   ],
   "source": [
    "print(1, type(1))\n",
    "print(2.0, type(2.0))"
   ]
  },
  {
   "cell_type": "code",
   "execution_count": 10,
   "metadata": {},
   "outputs": [
    {
     "name": "stdout",
     "output_type": "stream",
     "text": [
      "1\n",
      "-4.7\n",
      "-4\n",
      "-1\n",
      "1\n"
     ]
    }
   ],
   "source": [
    "print(--1)\n",
    "print(-4.7)\n",
    "print(-+4)\n",
    "\n",
    "x = -1\n",
    "print(+x) #при добавлении знака \"+\" перед числом оно не меняется, ТОЛЬКО при добавлении \"-\"\n",
    "print(-x)"
   ]
  },
  {
   "cell_type": "code",
   "execution_count": 23,
   "metadata": {},
   "outputs": [
    {
     "name": "stdout",
     "output_type": "stream",
     "text": [
      "3\n",
      "1\n",
      "4.0\n"
     ]
    },
    {
     "data": {
      "text/plain": [
       "float"
      ]
     },
     "execution_count": 23,
     "metadata": {},
     "output_type": "execute_result"
    }
   ],
   "source": [
    "print(abs(-3))\n",
    "# возвращает абсолютное значение по модулю\n",
    "\n",
    "print(int(1.7))\n",
    "#преобразование из дробного (число с правающей точкой) в целое число без окрегления, как в математике\n",
    "\n",
    "print(float(4))\n",
    "#преобразование из целого числа в дробное (число с плавающей точкой)\n",
    "\n",
    "type(float('5.0'))"
   ]
  },
  {
   "cell_type": "code",
   "execution_count": 29,
   "metadata": {},
   "outputs": [
    {
     "name": "stdout",
     "output_type": "stream",
     "text": [
      "4\n",
      "6\n",
      "3.14\n"
     ]
    }
   ],
   "source": [
    "print(round(3.6))\n",
    "print(round(6.1))\n",
    "\n",
    "#функция округления\n",
    "\n",
    "print(round(3.1444444, 2))\n",
    "# после запятой - кол-ви знаков, которые останутся после округления после запятой"
   ]
  },
  {
   "cell_type": "code",
   "execution_count": 35,
   "metadata": {},
   "outputs": [
    {
     "name": "stdout",
     "output_type": "stream",
     "text": [
      "5\n"
     ]
    }
   ],
   "source": [
    "occ = 'abracadabra'.count('a')\n",
    "print(occ)"
   ]
  },
  {
   "cell_type": "code",
   "execution_count": 7,
   "metadata": {},
   "outputs": [],
   "source": [
    "# СТРОКА - последовательный набор символов, заключенный в кавычки\n",
    "(1) В строках можно записать любую информацию, которую необходимо отобразить как текст\n",
    "(2) Можно использовать как одинарные (''), так и двойные (\"\") кавычки при введении данные в строку\n",
    "(3) ПРи необходимости можно использовать тройную пару кавычек, для передачи большого текста, например\n",
    "(4) Пайтон не делает приоритет одинарным или двойным кавычкам, но нужно придерживаться одного принципа при написании кода\n",
    "(5) Если не хочется использовать пару тройных можно разбить исходный код на строчек с помощью левого слеша - ЭКРАНИРОВАНИЕ\n",
    "(6) Если нужно, можно использовать и те, и те кавычки в одном коде, но нужно обязательно придерживаться принципа, \n",
    "какие кавычки начали использоваться первыми"
   ]
  },
  {
   "cell_type": "code",
   "execution_count": 15,
   "metadata": {},
   "outputs": [
    {
     "data": {
      "text/plain": [
       "'hello'"
      ]
     },
     "execution_count": 15,
     "metadata": {},
     "output_type": "execute_result"
    }
   ],
   "source": [
    "#(2) \n",
    "'hello'"
   ]
  },
  {
   "cell_type": "code",
   "execution_count": 16,
   "metadata": {},
   "outputs": [
    {
     "data": {
      "text/plain": [
       "'hello, my name is Yana. My age is 26'"
      ]
     },
     "execution_count": 16,
     "metadata": {},
     "output_type": "execute_result"
    }
   ],
   "source": [
    "#(2)\n",
    "\"hello, my name is Yana. My age is 26\""
   ]
  },
  {
   "cell_type": "code",
   "execution_count": 18,
   "metadata": {},
   "outputs": [
    {
     "name": "stdout",
     "output_type": "stream",
     "text": [
      " fjslkf;sf sf\n",
      "dfmldmflkdff\n",
      "\t\n",
      "\n",
      "dsfkdskf;ff;\n",
      "\n"
     ]
    }
   ],
   "source": [
    "#(3, 4)\n",
    "s = \"\"\" fjslkf;sf sf\n",
    "dfmldmflkdff\n",
    "\\t\\n\n",
    "dsfkdskf;ff;\n",
    "\"\"\"\n",
    "print(s)"
   ]
  },
  {
   "cell_type": "code",
   "execution_count": 19,
   "metadata": {},
   "outputs": [
    {
     "name": "stdout",
     "output_type": "stream",
     "text": [
      "hellohello\n"
     ]
    }
   ],
   "source": [
    "#(5)\n",
    "s = 'hello\\\n",
    "hello'\n",
    "print(s)"
   ]
  },
  {
   "cell_type": "code",
   "execution_count": 21,
   "metadata": {},
   "outputs": [
    {
     "name": "stdout",
     "output_type": "stream",
     "text": [
      "Hello, \"New York\"\n",
      "Hello, 'New York'\n"
     ]
    }
   ],
   "source": [
    "#(6)\n",
    "s = 'Hello, \"New York\"'\n",
    "print(s)\n",
    "\n",
    "# ИЛИ испаользованить ЭКРАНИРОВАНИЕ\n",
    "\n",
    "b = 'Hello, \\'New York\\''\n",
    "print(b)"
   ]
  },
  {
   "cell_type": "code",
   "execution_count": 22,
   "metadata": {},
   "outputs": [
    {
     "name": "stdout",
     "output_type": "stream",
     "text": [
      "4\n",
      "1\n",
      "0\n"
     ]
    }
   ],
   "source": [
    "# с помощью функции len можно получить длину стороки\n",
    "print(len(\"foo \"))\n",
    "print(len(\"b\"))\n",
    "print(len(''))"
   ]
  },
  {
   "cell_type": "code",
   "execution_count": 23,
   "metadata": {},
   "outputs": [
    {
     "name": "stdout",
     "output_type": "stream",
     "text": [
      "Hello World!\n"
     ]
    }
   ],
   "source": [
    "# КОНКАТИНАЦИЯ строк с помощью +\n",
    "print('Hello' + ' ' + 'World' + '!')"
   ]
  },
  {
   "cell_type": "code",
   "execution_count": 24,
   "metadata": {},
   "outputs": [
    {
     "data": {
      "text/plain": [
       "True"
      ]
     },
     "execution_count": 24,
     "metadata": {},
     "output_type": "execute_result"
    }
   ],
   "source": [
    "'foo' * 5 == 'foo' + 'foo' + 'foo' + 'foo' + 'foo'"
   ]
  },
  {
   "cell_type": "code",
   "execution_count": 27,
   "metadata": {},
   "outputs": [],
   "source": [
    "# МЕТОД - функция, которая непосредственно привязана к объекту/строке. \n",
    "Для того, чтобы вызвать метод строки нужно указать строку и через . пережать название метода и также указываются скобки,\n",
    "чтобы пайтон выполнил данный метод"
   ]
  },
  {
   "cell_type": "code",
   "execution_count": 28,
   "metadata": {},
   "outputs": [
    {
     "data": {
      "text/plain": [
       "2"
      ]
     },
     "execution_count": 28,
     "metadata": {},
     "output_type": "execute_result"
    }
   ],
   "source": [
    "# .count - считает кол-во вхождений подстроки в исходную строку\n",
    "\n",
    "s = 'hello'\n",
    "s.count('l')"
   ]
  },
  {
   "cell_type": "code",
   "execution_count": 30,
   "metadata": {},
   "outputs": [
    {
     "data": {
      "text/plain": [
       "'HELLO'"
      ]
     },
     "execution_count": 30,
     "metadata": {},
     "output_type": "execute_result"
    }
   ],
   "source": [
    "# .upper - переводит строку в ВЕРХНИЙ РЕГИСТР, сама строка не изменится\n",
    "\n",
    "s = 'hello'\n",
    "s.upper()"
   ]
  },
  {
   "cell_type": "code",
   "execution_count": 31,
   "metadata": {},
   "outputs": [
    {
     "data": {
      "text/plain": [
       "'hello'"
      ]
     },
     "execution_count": 31,
     "metadata": {},
     "output_type": "execute_result"
    }
   ],
   "source": [
    "# .lower - переводит строку в НИЖНИЙ РЕГИСТР\n",
    "\n",
    "s = 'HELLO'\n",
    "s.lower()"
   ]
  },
  {
   "cell_type": "code",
   "execution_count": 37,
   "metadata": {},
   "outputs": [
    {
     "name": "stdout",
     "output_type": "stream",
     "text": [
      "HELLO world world world world world world\n"
     ]
    },
    {
     "data": {
      "text/plain": [
       "'HELLO WORLD WORLD WORLD WORLD WORLD WORLD'"
      ]
     },
     "execution_count": 37,
     "metadata": {},
     "output_type": "execute_result"
    }
   ],
   "source": [
    "# СИНТАКСИС ПЕРЕПРИСВАИВАНИЯ\n",
    "\n",
    "s = s + ' world'\n",
    "print(s)\n",
    "\n",
    "s.upper()"
   ]
  },
  {
   "cell_type": "code",
   "execution_count": 39,
   "metadata": {},
   "outputs": [
    {
     "data": {
      "text/plain": [
       "'helfoo world'"
      ]
     },
     "execution_count": 39,
     "metadata": {},
     "output_type": "execute_result"
    }
   ],
   "source": [
    "# .replace - принимает два параментра, который нужно заменить и на что нужно заменить\n",
    "\n",
    "s = 'hello world'\n",
    "s.replace('lo', 'foo')"
   ]
  },
  {
   "cell_type": "code",
   "execution_count": 41,
   "metadata": {},
   "outputs": [
    {
     "data": {
      "text/plain": [
       "True"
      ]
     },
     "execution_count": 41,
     "metadata": {},
     "output_type": "execute_result"
    }
   ],
   "source": [
    "# .isalpha - проверяет, являются ли все символы в исходной строке валидными ASCII символами\n",
    "\n",
    "'hello'.isalpha()"
   ]
  },
  {
   "cell_type": "code",
   "execution_count": 42,
   "metadata": {},
   "outputs": [
    {
     "data": {
      "text/plain": [
       "True"
      ]
     },
     "execution_count": 42,
     "metadata": {},
     "output_type": "execute_result"
    }
   ],
   "source": [
    "# .isdigit - проверяет, являются ли все символы в исходной строке числами\n",
    "\n",
    "'13579'.isdigit()"
   ]
  },
  {
   "cell_type": "code",
   "execution_count": 47,
   "metadata": {},
   "outputs": [
    {
     "name": "stdout",
     "output_type": "stream",
     "text": [
      "0\n",
      "1\n"
     ]
    }
   ],
   "source": [
    "# .index - возвращает индект подстроки в исходной строке\n",
    "\n",
    "hello_str = 'hello'\n",
    "print(hello_str.index('h'))\n",
    "print(hello_str.index('el')) #возвращает индекс, на котором находится первый символ"
   ]
  },
  {
   "cell_type": "code",
   "execution_count": 48,
   "metadata": {},
   "outputs": [
    {
     "name": "stdout",
     "output_type": "stream",
     "text": [
      "2\n",
      "-1\n"
     ]
    }
   ],
   "source": [
    "# .find - внаиболее корректный метод поиска, позвващает -1, если символ не найден\n",
    "\n",
    "print(hello_str.find('l'))\n",
    "print(hello_str.find('z'))"
   ]
  },
  {
   "cell_type": "code",
   "execution_count": 49,
   "metadata": {},
   "outputs": [
    {
     "name": "stdout",
     "output_type": "stream",
     "text": [
      "0\n"
     ]
    }
   ],
   "source": [
    "# .rfind - поиск символа в строке, но справа на лево; послежний символ в строке имеет индекс -1\n",
    "\n",
    "print(hello_str.rfind('h'))"
   ]
  },
  {
   "cell_type": "code",
   "execution_count": 43,
   "metadata": {},
   "outputs": [
    {
     "name": "stdout",
     "output_type": "stream",
     "text": [
      "True\n",
      "False\n"
     ]
    }
   ],
   "source": [
    "# Проверка, является ли строка частью другой строки\n",
    "\n",
    "print('he' in 'hello')\n",
    "print('x' in 'hello')\n",
    "\n",
    "in - ОПЕРАТОР"
   ]
  },
  {
   "cell_type": "code",
   "execution_count": 55,
   "metadata": {},
   "outputs": [
    {
     "name": "stdout",
     "output_type": "stream",
     "text": [
      "hellso\n",
      "h e l l o\n"
     ]
    }
   ],
   "source": [
    "print(hello_str)\n",
    "\n",
    "print(hello_str[0], hello_str[1], hello_str[2], hello_str[3], hello_str[4], sep=' ')"
   ]
  },
  {
   "cell_type": "code",
   "execution_count": 56,
   "metadata": {},
   "outputs": [
    {
     "data": {
      "text/plain": [
       "'h'"
      ]
     },
     "execution_count": 56,
     "metadata": {},
     "output_type": "execute_result"
    }
   ],
   "source": [
    "hello_str[-1]\n",
    "hello_str[-5]"
   ]
  },
  {
   "cell_type": "code",
   "execution_count": 75,
   "metadata": {},
   "outputs": [
    {
     "name": "stdout",
     "output_type": "stream",
     "text": [
      "Superhero name is Batman, his super power - intellect, his enemy - Jo\n",
      "\n",
      "Superhero name is Batman, his super power is intellect\n",
      "\n",
      "Superhero name is Joker, his super power is intellect, his enemy - Batman\n",
      "\n",
      "Superhero name is Batman, his super power is intellect, his enemy - Joker\n"
     ]
    }
   ],
   "source": [
    "                                     #ФОРМАТИРОВАНИЕ СТРОК\n",
    "# f.string - форматирование строки результата со значением в фигурным скобках\n",
    "name = 'Batman'\n",
    "super_power = 'intellect'\n",
    "enemy = 'Joker'\n",
    "print(f'Superhero name is {name}, his super power - {super_power}, his enemy - {enemy[:2]}\\n')\n",
    "\n",
    "# .format - принимает переменные со знаничениме места, куда они должны быть помещены\n",
    "s = 'Superhero name is {}, his super power is {}\\n'\n",
    "print(s.format (name, super_power))\n",
    "\n",
    "print('Superhero name is {1}, his super power is {0}, his enemy - {2}\\n'.format(super_power, enemy, name))\n",
    "\n",
    "print('Superhero name is %s, his super power is %s, his enemy - %s' % (name, super_power, enemy))"
   ]
  },
  {
   "cell_type": "code",
   "execution_count": 77,
   "metadata": {},
   "outputs": [
    {
     "name": "stdout",
     "output_type": "stream",
     "text": [
      "this is cool number 3\n",
      "this is cool number 3.149086\n",
      "this is cool number 3.15\n"
     ]
    }
   ],
   "source": [
    "print('this is cool number %d' % 3.1490864537592) # для интержера/целого числа\n",
    "print('this is cool number %f' % 3.1490864537592) # для флоата/дробного числа\n",
    "print('this is cool number %.2f' % 3.1490864537592) # для кол-ва символов после округления"
   ]
  },
  {
   "cell_type": "code",
   "execution_count": 1,
   "metadata": {},
   "outputs": [
    {
     "name": "stdout",
     "output_type": "stream",
     "text": [
      "condition was true\n",
      "if statement is over\n"
     ]
    }
   ],
   "source": [
    "# Оператор if - для использования нужно ввести с уловнием, которое должно возвращать True|False.\n",
    "# Если результат будет True, то блок выполняется, а если False - будет пропущен\n",
    "# Оператор elif обязательно следует после if на одном и том же отступе\n",
    "# Оператору else не нужны никакие условия, но он должен стоять в конце после if и крайнего оператора elif\n",
    "# else запускается только в том случае, если не выполниться ниодно из вышестоящих условий\n",
    "\n",
    "if True:\n",
    "    print('condition was true')\n",
    "    \n",
    "if False:\n",
    "    print('condition was true')\n",
    "\n",
    "print('if statement is over')"
   ]
  },
  {
   "cell_type": "code",
   "execution_count": 5,
   "metadata": {},
   "outputs": [
    {
     "name": "stdout",
     "output_type": "stream",
     "text": [
      "Today is a lame\n"
     ]
    }
   ],
   "source": [
    "weather = 'cloudy'\n",
    "\n",
    "if weather == 'sunny':\n",
    "    print('Today is a good day\\n')\n",
    "    \n",
    "elif weather == 'rainy':\n",
    "    print('Today is a bad day\\n')\n",
    "    \n",
    "else:\n",
    "    print('Today is a lame')"
   ]
  },
  {
   "cell_type": "code",
   "execution_count": 9,
   "metadata": {},
   "outputs": [],
   "source": [
    "ЛОГИЧЕСКИЕ ОПЕРАТОРЫ and, or, not\n",
    "(1) and - берет два логических оператора и возвращает True только если оба из них верны\n",
    "\n",
    "True and True\n",
    "True\n",
    "\n",
    "True and False\n",
    "False\n",
    "\n",
    "False and True\n",
    "False\n",
    "\n",
    "False and False\n",
    "False\n",
    "___________________\n",
    "(2) or возвращает False только если оба условия ложные\n",
    "\n",
    "False or False\n",
    "False\n",
    "\n",
    "True or False\n",
    "True\n",
    "\n",
    "False or True\n",
    "True\n",
    "\n",
    "True or True\n",
    "True\n",
    "___________________\n",
    "(3) not выражает отрицание\n",
    "\n",
    "not True\n",
    "False\n",
    "\n",
    "not False \n",
    "True"
   ]
  },
  {
   "cell_type": "code",
   "execution_count": 10,
   "metadata": {},
   "outputs": [
    {
     "data": {
      "text/plain": [
       "False"
      ]
     },
     "execution_count": 10,
     "metadata": {},
     "output_type": "execute_result"
    }
   ],
   "source": [
    "# ЗНАКИ СРАВНЕНИЯ\n",
    "\n",
    "6 == 6 True\n",
    "6 == 5 False\n",
    "# знаки равенства, проверяет, одинаковы ли объекты\n",
    "\n",
    "5 != 6 True\n",
    "5 != 5 False\n",
    "#проверяет, верно ли, что объекты разные\n",
    "\n",
    "5 < 6 True\n",
    "5 > 6 False\n",
    "#знак меньше/больше\n",
    "\n",
    "5 >= 5 True\n",
    "5 >= 4 True\n",
    "5 <= 4 False\n",
    "#меньше или равно/больше или равно"
   ]
  },
  {
   "cell_type": "code",
   "execution_count": 1,
   "metadata": {},
   "outputs": [
    {
     "name": "stdout",
     "output_type": "stream",
     "text": [
      "True <class 'bool'>\n",
      "False <class 'bool'>\n"
     ]
    }
   ],
   "source": [
    "print(True, type(True))\n",
    "print(False, type(False))"
   ]
  },
  {
   "cell_type": "code",
   "execution_count": 5,
   "metadata": {},
   "outputs": [
    {
     "name": "stdout",
     "output_type": "stream",
     "text": [
      "True\n",
      "True\n",
      "True\n",
      "False\n"
     ]
    }
   ],
   "source": [
    "ПРИ ЛОГИЧЕСКИХ ВЫРАЖЕНИЯХ ПО СТАРШЕНСТВУ:\n",
    "    1 - not (приводит булевый тип данных к обратному)\n",
    "    2 - and (оператор булевого умножения)\n",
    "    3 - or (оператор булевого умножения)\n",
    "\n",
    "print(True or False and True)\n",
    "print(False or True and True)\n",
    "print(True or (False and True))\n",
    "print((False or True) and False)"
   ]
  },
  {
   "cell_type": "code",
   "execution_count": 10,
   "metadata": {},
   "outputs": [
    {
     "data": {
      "text/plain": [
       "False"
      ]
     },
     "execution_count": 10,
     "metadata": {},
     "output_type": "execute_result"
    }
   ],
   "source": [
    "None - представляет пустые данные. Используется, когда нету никакого выражения или функция ничего не возвращает\n",
    "\n",
    "a = None\n",
    "a is None - True\n",
    "a = 'hug'\n",
    "a is None - False"
   ]
  },
  {
   "cell_type": "code",
   "execution_count": 15,
   "metadata": {},
   "outputs": [
    {
     "name": "stdout",
     "output_type": "stream",
     "text": [
      "True\n",
      "True\n",
      "False\n",
      "False\n",
      "True\n",
      "True\n",
      "False\n",
      "True\n",
      "True\n",
      "True\n",
      "True\n",
      "False\n",
      "False\n"
     ]
    },
    {
     "name": "stderr",
     "output_type": "stream",
     "text": [
      "<>:8: SyntaxWarning: \"is not\" with a literal. Did you mean \"!=\"?\n",
      "<>:8: SyntaxWarning: \"is not\" with a literal. Did you mean \"!=\"?\n",
      "<ipython-input-15-0fdb0bbb29fd>:8: SyntaxWarning: \"is not\" with a literal. Did you mean \"!=\"?\n",
      "  print(True is not 1)\n"
     ]
    }
   ],
   "source": [
    "print(1 < 2)\n",
    "print(2 <= 2)\n",
    "print(3 > 4)\n",
    "print(5 >= 9)\n",
    "print (2 == 2)\n",
    "print(4 != 2)\n",
    "print(True is False)\n",
    "print(True is not 1)\n",
    "print(1 < 2 and True)\n",
    "print(False or 4 == 4)\n",
    "print(1 < 2 < 4 < 10)\n",
    "print(2 > 5 < 2)\n",
    "print(2 > 5 > 100 ** 100)"
   ]
  },
  {
   "cell_type": "code",
   "execution_count": 19,
   "metadata": {},
   "outputs": [
    {
     "name": "stdout",
     "output_type": "stream",
     "text": [
      "I need to print \"yes\", because if statement evaluated to True\n",
      "\n",
      "If statement evaluated to false\n"
     ]
    }
   ],
   "source": [
    "our_condition = 'yes'\n",
    "if our_condition == 'yes':\n",
    "    print('I need to print \"yes\", because if statement evaluated to True\\n')\n",
    "\n",
    "our_condition = 'no'\n",
    "if our_condition == 'yes':\n",
    "    print('I need to print \"yes\", because if statement evaluated to True')\n",
    "    \n",
    "else:\n",
    "    print('If statement evaluated to false')"
   ]
  },
  {
   "cell_type": "code",
   "execution_count": 20,
   "metadata": {},
   "outputs": [
    {
     "name": "stdout",
     "output_type": "stream",
     "text": [
      "I need to print \"no\", because if statement evaluated to False\n"
     ]
    }
   ],
   "source": [
    "our_condition = 'no'\n",
    "if our_condition == 'yes':\n",
    "    print(f'I need to print \"{our_condition}\", because if statement evaluated to True')\n",
    "elif our_condition == 'no':\n",
    "          print(f'I need to print \"{our_condition}\", because if statement evaluated to False')\n",
    "else:\n",
    "    print('If statement evaluated to false')"
   ]
  },
  {
   "cell_type": "code",
   "execution_count": 21,
   "metadata": {},
   "outputs": [
    {
     "name": "stdout",
     "output_type": "stream",
     "text": [
      "got five\n"
     ]
    }
   ],
   "source": [
    "x = 5\n",
    "if x < 2:\n",
    "    print('x < 2')\n",
    "elif x >= 5:\n",
    "    if x == 5:\n",
    "        print('got five')\n",
    "    else:\n",
    "        print('x > 5')\n",
    "elif x % 3 == 0:\n",
    "    print('x % 3 == 0')\n",
    "elif x < 7:\n",
    "    print('x < 7')\n",
    "else:\n",
    "    print('All other cases')"
   ]
  },
  {
   "cell_type": "code",
   "execution_count": 6,
   "metadata": {},
   "outputs": [
    {
     "name": "stdout",
     "output_type": "stream",
     "text": [
      "Do important logic here\n",
      "Do important logic here\n",
      "Do important logic here\n",
      "Do important logic here\n",
      "Do important logic here\n"
     ]
    }
   ],
   "source": [
    "# ЦИКЛЫ важная часть програмирования, которая разрешает организовать повторение участков кода, чтобы не писать его повторно\n",
    "# while значит, что логика будет выполняться, пока действуей заданое условие\n",
    "# while похож на if, но его тело может выпоняться несколько раз\n",
    "\n",
    "our_threshold = 5\n",
    "i = 0\n",
    "while i < our_threshold:\n",
    "    print('Do important logic here')\n",
    "    i += 1"
   ]
  },
  {
   "cell_type": "code",
   "execution_count": 2,
   "metadata": {},
   "outputs": [
    {
     "data": {
      "text/plain": [
       "5"
      ]
     },
     "execution_count": 2,
     "metadata": {},
     "output_type": "execute_result"
    }
   ],
   "source": [
    "i"
   ]
  },
  {
   "cell_type": "code",
   "execution_count": 11,
   "metadata": {},
   "outputs": [
    {
     "name": "stdout",
     "output_type": "stream",
     "text": [
      "Variable i: 0. Do important logic here.\n",
      "Variable i: 1. Do important logic here.\n",
      "Variable i: 2. Do important logic here.\n",
      "Variable i: 3. Do important logic here.\n",
      "Variable i: 4. Do important logic here.\n",
      "Variable i: 5. Do important logic here.\n",
      "Variable i: 6. Do important logic here.\n",
      "Good reason to stop\n",
      "\n",
      "Variable i: 0. Do important logic here.\n",
      "Variable i: 1. Do important logic here.\n",
      "Variable i: 2. Do important logic here.\n",
      "Variable i: 3. Do important logic here.\n",
      "Variable i: 4. Do important logic here.\n",
      "Variable i: 5. Do important logic here.\n",
      "Variable i: 6. Do important logic here.\n",
      "Good reason to stop\n",
      "Variable i: 7. Do important logic here.\n",
      "Variable i: 8. Do important logic here.\n",
      "Variable i: 9. Do important logic here.\n",
      "Variable i: 10. Do important logic here.\n",
      "Variable i: 11. Do important logic here.\n"
     ]
    }
   ],
   "source": [
    "our_threshold = 1000\n",
    "i = 0\n",
    "\n",
    "while i < our_threshold:\n",
    "    print(f'Variable i: {i}.', end=' ')\n",
    "    print('Do important logic here.')\n",
    "    i += 1\n",
    "    if i % 7 == 0:\n",
    "        print('Good reason to stop\\n')\n",
    "        break\n",
    "        \n",
    "our_threshold = 12\n",
    "i = 0\n",
    "\n",
    "while i < our_threshold:\n",
    "    print(f'Variable i: {i}.', end=' ')\n",
    "    print('Do important logic here.')\n",
    "    i += 1\n",
    "    if i % 7 == 0:\n",
    "        print('Good reason to stop')\n",
    "        #break (задает точку остановки кода)"
   ]
  },
  {
   "cell_type": "code",
   "execution_count": 21,
   "metadata": {},
   "outputs": [
    {
     "name": "stdout",
     "output_type": "stream",
     "text": [
      "Variable i: 1. Do important logic here\n",
      "Variable i: 2. Do important logic here\n",
      "Variable i: 3. Do important logic here\n",
      "Variable i: 4. Do important logic here\n",
      "Variable i: 5. Do important logic here\n",
      "Variable i: 6. Do important logic here\n",
      "Variable i: 7. Do very very important task and thet`s it\n",
      "Variable i: 8. Do important logic here\n",
      "Variable i: 9. Do important logic here\n",
      "Variable i: 10. Do important logic here\n",
      "Variable i: 11. Do important logic here\n",
      "Variable i: 12. Do important logic here\n",
      "Variable i: 13. Do important logic here\n",
      "Variable i: 14. Do very very important task and thet`s it\n",
      "Variable i: 15. Do important logic here\n",
      "Variable i: 16. Do important logic here\n",
      "Variable i: 17. Do important logic here\n",
      "Variable i: 18. Do important logic here\n",
      "Variable i: 19. Do important logic here\n",
      "Variable i: 20. Do important logic here\n",
      "Variable i: 21. Do very very important task and thet`s it\n",
      "Variable i: 22. Do important logic here\n",
      "Variable i: 1. Do important logic here\n",
      "Variable i: 2. Do important logic here\n",
      "Variable i: 3. Do important logic here\n",
      "Variable i: 4. Do important logic here\n",
      "Variable i: 5. Do important logic here\n",
      "Variable i: 6. Do important logic here\n",
      "Variable i: 7. Do very very important task and thet`s it\n",
      "Do important logic here\n",
      "Variable i: 9. Do important logic here\n",
      "Variable i: 10. Do important logic here\n",
      "Variable i: 11. Do important logic here\n",
      "Variable i: 12. Do important logic here\n",
      "Variable i: 13. Do important logic here\n",
      "Variable i: 14. Do very very important task and thet`s it\n",
      "Do important logic here\n",
      "Variable i: 16. Do important logic here\n",
      "Variable i: 17. Do important logic here\n",
      "Variable i: 18. Do important logic here\n",
      "Variable i: 19. Do important logic here\n",
      "Variable i: 20. Do important logic here\n",
      "Variable i: 21. Do very very important task and thet`s it\n",
      "Do important logic here\n"
     ]
    }
   ],
   "source": [
    "our_threshold = 23\n",
    "i = 1\n",
    "\n",
    "while i < our_threshold:\n",
    "    print(f'Variable i: {i}.', end=' ')\n",
    "    if i % 7 == 0:\n",
    "        print('Do very very important task and thet`s it')\n",
    "        i += 1\n",
    "        continue\n",
    "    \n",
    "    print('Do important logic here')\n",
    "    i += 1\n",
    "    \n",
    "our_threshold = 23\n",
    "i = 1\n",
    "\n",
    "while i < our_threshold:\n",
    "    print(f'Variable i: {i}.', end=' ')\n",
    "    if i % 7 == 0:\n",
    "        print('Do very very important task and thet`s it')\n",
    "        i += 1\n",
    "        #continue (работает как брейк, но продолжает интерацию после того, как выполнились условия)\n",
    "    \n",
    "    print('Do important logic here')\n",
    "    i += 1"
   ]
  },
  {
   "cell_type": "code",
   "execution_count": 22,
   "metadata": {},
   "outputs": [
    {
     "name": "stdout",
     "output_type": "stream",
     "text": [
      "Variable i: 0. Do important logic here\n",
      "Variable i: 1. Do important logic here\n",
      "Variable i: 2. Do important logic here\n",
      "Variable i: 3. Do important logic here\n",
      "Variable i: 4. Do important logic here\n",
      "Variable i: 5. Do important logic here\n",
      "Variable i: 6. Do important logic here\n",
      "Something vent wrong\n",
      "\n",
      "Variable i: 0. Do important logic here\n",
      "Variable i: 1. Do important logic here\n",
      "Variable i: 2. Do important logic here\n",
      "Variable i: 3. Do important logic here\n",
      "Variable i: 4. Do important logic here\n",
      "Variable i: 5. Do important logic here\n",
      "This important logic will take place only if nothing broken\n"
     ]
    }
   ],
   "source": [
    "our_threshold = 11\n",
    "i = 0\n",
    "\n",
    "while i < our_threshold:\n",
    "    print(f'Variable i: {i}.', end=' ')\n",
    "    print('Do important logic here')\n",
    "    i += 1\n",
    "    if i % 7 == 0:\n",
    "        print('Something vent wrong\\n')\n",
    "        evetything_ok = False\n",
    "        break\n",
    "else: #будет вызван лишь в том случае, если в коде не был выполнен break\n",
    "    print('This important logic will take place only if nothing broken')\n",
    "    \n",
    "our_threshold = 6\n",
    "i = 0\n",
    "\n",
    "while i < our_threshold:\n",
    "    print(f'Variable i: {i}.', end=' ')\n",
    "    print('Do important logic here')\n",
    "    i += 1\n",
    "    if i % 7 == 0:\n",
    "        print('Something vent wrong')\n",
    "        evetything_ok = False\n",
    "        break\n",
    "else: \n",
    "    print('This important logic will take place only if nothing broken')"
   ]
  },
  {
   "cell_type": "code",
   "execution_count": null,
   "metadata": {},
   "outputs": [
    {
     "name": "stdout",
     "output_type": "stream",
     "text": [
        "Hello\n"
     ]
    }
   ],
   "source": [
    "# infinite loop - если while всегда возвращает истину - бесконечный цикл\n",
    "while False:\n",
    "    print('Hello')"
   ]
  },
  {
   "cell_type": "code",
   "execution_count": null,
   "metadata": {},
   "outputs": [],
   "source": []
  }
 ],
 "metadata": {
  "kernelspec": {
   "display_name": "Python 3",
   "language": "python",
   "name": "python3"
  },
  "language_info": {
   "codemirror_mode": {
    "name": "ipython",
    "version": 3
   },
   "file_extension": ".py",
   "mimetype": "text/x-python",
   "name": "python",
   "nbconvert_exporter": "python",
   "pygments_lexer": "ipython3",
   "version": "3.8.5"
  }
 },
 "nbformat": 4,
 "nbformat_minor": 4
}
